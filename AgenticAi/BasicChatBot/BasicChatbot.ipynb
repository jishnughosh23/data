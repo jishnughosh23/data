{
 "cells": [
  {
   "cell_type": "markdown",
   "id": "ea7de613",
   "metadata": {},
   "source": [
    "Basic Chatbot with using Langgrapht(Graph API)"
   ]
  },
  {
   "cell_type": "code",
   "execution_count": 8,
   "id": "f3f0b5bf",
   "metadata": {},
   "outputs": [],
   "source": [
    "from typing import Annotated\n",
    "from typing_extensions import TypedDict\n",
    "from langgraph.graph import StateGraph,START,END\n",
    "from langgraph.graph.message import add_messages\n"
   ]
  },
  {
   "cell_type": "code",
   "execution_count": 9,
   "id": "077ab8e9",
   "metadata": {},
   "outputs": [],
   "source": [
    "class State(TypedDict):\n",
    "    messages:Annotated[list,add_messages]\n",
    "\n",
    "\n",
    "graph_builder=StateGraph(State)"
   ]
  },
  {
   "cell_type": "code",
   "execution_count": 10,
   "id": "04e4b6b7",
   "metadata": {},
   "outputs": [
    {
     "data": {
      "text/plain": [
       "True"
      ]
     },
     "execution_count": 10,
     "metadata": {},
     "output_type": "execute_result"
    }
   ],
   "source": [
    "import os\n",
    "from dotenv import load_dotenv\n",
    "load_dotenv()"
   ]
  },
  {
   "cell_type": "code",
   "execution_count": 5,
   "id": "74a9080c",
   "metadata": {},
   "outputs": [],
   "source": [
    "from langchain_groq import ChatGroq\n",
    "from langchain.chat_models import init_chat_model\n",
    "\n",
    "llm=ChatGroq(model=\"llama3-8b-8192\")"
   ]
  },
  {
   "cell_type": "code",
   "execution_count": 5,
   "id": "b5a253c0",
   "metadata": {},
   "outputs": [
    {
     "data": {
      "text/plain": [
       "ChatGroq(client=<groq.resources.chat.completions.Completions object at 0x0000023B007A0050>, async_client=<groq.resources.chat.completions.AsyncCompletions object at 0x0000023B007A0D70>, model_name='llama3-8b-8192', model_kwargs={}, groq_api_key=SecretStr('**********'))"
      ]
     },
     "execution_count": 5,
     "metadata": {},
     "output_type": "execute_result"
    }
   ],
   "source": [
    "llm"
   ]
  },
  {
   "cell_type": "code",
   "execution_count": 6,
   "id": "3a547e89",
   "metadata": {},
   "outputs": [],
   "source": [
    "#ANother approach\n",
    "# llm=init_chat_model(\"groq:llama3-8b\")"
   ]
  },
  {
   "cell_type": "code",
   "execution_count": 7,
   "id": "2aace592",
   "metadata": {},
   "outputs": [],
   "source": [
    "#Node functionality\n",
    "def chatbot(state:State):\n",
    "    return {\"messages\":[llm.invoke(state[\"messages\"])]}"
   ]
  },
  {
   "cell_type": "code",
   "execution_count": 8,
   "id": "1f1d728d",
   "metadata": {},
   "outputs": [],
   "source": [
    "graph_builder=StateGraph(State)\n",
    "\n",
    "#adding node\n",
    "graph_builder.add_node(\"llmchatbot\",chatbot)\n",
    "#adding edges\n",
    "graph_builder.add_edge(START,\"llmchatbot\")\n",
    "graph_builder.add_edge(\"llmchatbot\",END)\n",
    "\n",
    "#compile the graph\n",
    "graph=graph_builder.compile()\n",
    "\n"
   ]
  },
  {
   "cell_type": "code",
   "execution_count": 9,
   "id": "d6a44e6d",
   "metadata": {},
   "outputs": [
    {
     "data": {
      "image/png": "[encoded data removed]",
      "text/plain": [
       "<IPython.core.display.Image object>"
      ]
     },
     "metadata": {},
     "output_type": "display_data"
    }
   ],
   "source": [
    "from IPython.display import Image,display\n",
    "\n",
    "try:\n",
    "    display(Image(graph.get_graph().draw_mermaid_png()))\n",
    "except Exception:\n",
    "    pass"
   ]
  },
  {
   "cell_type": "code",
   "execution_count": 10,
   "id": "a5bc1889",
   "metadata": {},
   "outputs": [],
   "source": [
    "response=graph.invoke({\"messages\":\"Do you know lionel Messi?\"})"
   ]
  },
  {
   "cell_type": "code",
   "execution_count": 11,
   "id": "5bde3676",
   "metadata": {},
   "outputs": [
    {
     "data": {
      "text/plain": [
       "\"Lionel Messi is a world-renowned Argentine professional footballer who is widely regarded as one of the greatest players of all time. He is known for his exceptional dribbling skills, speed, and goal-scoring ability.\\n\\nMessi has played for FC Barcelona and the Argentina national team throughout his career. He has won numerous accolades, including six Ballon d'Or awards, ten La Liga titles, and four UEFA Champions League titles. He has also broken numerous records in the sport, including the most goals scored in La Liga and the most assists in the UEFA Champions League.\\n\\nMessi is known for his incredible vision, creativity, and ability to score goals from almost anywhere on the field. He is also known for his humility and kindness off the field, often using his platform to support charitable causes and bring attention to social issues.\\n\\nSome of his most notable achievements include:\\n\\n* Scoring over 770 goals for club and country\\n* Winning the Ballon d'Or a record-breaking seven times\\n* Winning the UEFA Champions League four times with Barcelona\\n* Scoring over 50 goals in a single season for the first time in 2011-2012\\n* Helping Argentina win the 2021 Copa America\\n\\nMessi is considered one of the greatest players in the history of the sport, and his name is often mentioned alongside other all-time greats such as Cristiano Ronaldo, Diego Maradona, and Zinedine Zidane.\""
      ]
     },
     "execution_count": 11,
     "metadata": {},
     "output_type": "execute_result"
    }
   ],
   "source": [
    "response[\"messages\"][-1].content"
   ]
  },
  {
   "cell_type": "code",
   "execution_count": 12,
   "id": "63bafefc",
   "metadata": {},
   "outputs": [
    {
     "name": "stdout",
     "output_type": "stream",
     "text": [
      "Hello! I'm just an AI, so I don't have feelings like humans do, but I'm functioning properly and ready to help with any questions or tasks you may have! How can I assist you today?\n"
     ]
    }
   ],
   "source": [
    "for event in graph.stream({\"messages\":\"Hello, How are you\"}):\n",
    "    for val in event.values():\n",
    "        print(val[\"messages\"][-1].content)\n",
    "    "
   ]
  },
  {
   "cell_type": "markdown",
   "id": "05c64c64",
   "metadata": {},
   "source": [
    "# ChatBot using Tool"
   ]
  },
  {
   "cell_type": "code",
   "execution_count": 1,
   "id": "9ff87871",
   "metadata": {},
   "outputs": [
    {
     "data": {
      "text/plain": [
       "{'query': 'What is Langgraph',\n",
       " 'follow_up_questions': None,\n",
       " 'answer': None,\n",
       " 'images': [],\n",
       " 'results': [{'url': 'https://www.datacamp.com/tutorial/langgraph-tutorial',\n",
       "   'title': 'LangGraph Tutorial: What Is LangGraph and How to Use It?',\n",
       "   'content': 'LangGraph is a library within the LangChain ecosystem that provides a framework for defining, coordinating, and executing multiple LLM agents (or chains) in a structured and efficient manner. By managing the flow of data and the sequence of operations, LangGraph allows developers to focus on the high-level logic of their applications rather than the intricacies of agent coordination. Whether you need a chatbot that can handle various types of user requests or a multi-agent system that performs complex tasks, LangGraph provides the tools to build exactly what you need. LangGraph significantly simplifies the development of complex LLM applications by providing a structured framework for managing state and coordinating agent interactions.',\n",
       "   'score': 0.9501204,\n",
       "   'raw_content': None},\n",
       "  {'url': 'https://www.ibm.com/think/topics/langgraph',\n",
       "   'title': 'What is LangGraph? - IBM',\n",
       "   'content': 'LangGraph, created by LangChain, is an open source AI agent framework designed to build, deploy and manage complex generative AI agent workflows. At its core, LangGraph uses the power of graph-based architectures to model and manage the intricate relationships between various components of an AI agent workflow. LangGraph illuminates the processes within an AI workflow, allowing full transparency of the agent’s state. By combining these technologies with a set of APIs and tools, LangGraph provides users with a versatile platform for developing AI solutions and workflows including chatbots, state graphs and other agent-based systems. Nodes: In LangGraph, nodes represent individual components or agents within an AI workflow. LangGraph uses enhanced decision-making by modeling complex relationships between nodes, which means it uses AI agents to analyze their past actions and feedback.',\n",
       "   'score': 0.9449999,\n",
       "   'raw_content': None}],\n",
       " 'response_time': 1.18}"
      ]
     },
     "execution_count": 1,
     "metadata": {},
     "output_type": "execute_result"
    }
   ],
   "source": [
    "from langchain_tavily import TavilySearch\n",
    "\n",
    "tool = TavilySearch(max_results=2)\n",
    "tool.invoke(\"What is Langgraph\")"
   ]
  },
  {
   "cell_type": "code",
   "execution_count": 19,
   "id": "749bbcbe",
   "metadata": {},
   "outputs": [],
   "source": [
    "##Custom function\n",
    "\n",
    "def multiply(a:int,b:int)->int:\n",
    "    \"\"\"Multiply a and b\n",
    "\n",
    "    Args:\n",
    "        a (int): first int\n",
    "        b (int): second int\n",
    "    \n",
    "    Returns:\n",
    "        int: output int\n",
    "    \"\"\"\n",
    "\n",
    "    return a*b"
   ]
  },
  {
   "cell_type": "code",
   "execution_count": 20,
   "id": "71d5b380",
   "metadata": {},
   "outputs": [],
   "source": [
    "tools=[tool,multiply]"
   ]
  },
  {
   "cell_type": "code",
   "execution_count": 21,
   "id": "f77452bb",
   "metadata": {},
   "outputs": [],
   "source": [
    "llm_with_tool = llm.bind_tools(tools)"
   ]
  },
  {
   "cell_type": "code",
   "execution_count": 22,
   "id": "7b649a4a",
   "metadata": {},
   "outputs": [
    {
     "data": {
      "image/png": "[encoded data removed]",
      "text/plain": [
       "<IPython.core.display.Image object>"
      ]
     },
     "metadata": {},
     "output_type": "display_data"
    }
   ],
   "source": [
    "from langgraph.graph import StateGraph,START,END\n",
    "from langgraph.prebuilt import ToolNode\n",
    "from langgraph.prebuilt import tools_condition\n",
    "\n",
    "# Node Defination\n",
    "def tool_calling_llm(state:State):\n",
    "    return {\"messages\":[llm_with_tool.invoke(state[\"messages\"])]}\n",
    "\n",
    "# Graph\n",
    "builder = StateGraph(State)\n",
    "builder.add_node(\"tool_calling_llm\",tool_calling_llm)\n",
    "builder.add_node(\"tools\",ToolNode(tools))\n",
    "\n",
    "#Add edges\n",
    "\n",
    "builder.add_edge(START,\"tool_calling_llm\")\n",
    "builder.add_conditional_edges(\n",
    "    \"tool_calling_llm\",\n",
    "    tools_condition\n",
    "     \n",
    ")\n",
    "\n",
    "builder.add_edge(\"tools\",END)\n",
    "\n",
    "#compile the graph\n",
    "\n",
    "\n",
    "graph = builder.compile()\n",
    "\n",
    "from IPython.display import Image,display\n",
    "\n",
    "display(Image(graph.get_graph().draw_mermaid_png()))\n"
   ]
  },
  {
   "cell_type": "code",
   "execution_count": null,
   "id": "61b4d114",
   "metadata": {},
   "outputs": [
    {
     "data": {
      "text/plain": [
       "{'messages': [HumanMessage(content='Give me the recent ai news and then answerWhat is 5 multiply by 2', additional_kwargs={}, response_metadata={}, id='536a88b8-1dfd-40e1-96aa-1d006374bee8'),\n",
       "  AIMessage(content='', additional_kwargs={'tool_calls': [{'id': 'z9nyxtvae', 'function': {'arguments': '{\"query\":\"recent ai news\",\"search_depth\":\"advanced\",\"topic\":\"news\"}', 'name': 'tavily_search'}, 'type': 'function'}]}, response_metadata={'token_usage': {'completion_tokens': 273, 'prompt_tokens': 2273, 'total_tokens': 2546, 'completion_time': 0.342884234, 'prompt_time': 0.379250482, 'queue_time': 0.051823167999999975, 'total_time': 0.722134716}, 'model_name': 'llama3-8b-8192', 'system_fingerprint': 'fp_24ec19897b', 'service_tier': 'on_demand', 'finish_reason': 'tool_calls', 'logprobs': None}, id='run--222b78c0-cd85-4d40-b494-b884f42983b9-0', tool_calls=[{'name': 'tavily_search', 'args': {'query': 'recent ai news', 'search_depth': 'advanced', 'topic': 'news'}, 'id': 'z9nyxtvae', 'type': 'tool_call'}], usage_metadata={'input_tokens': 2273, 'output_tokens': 273, 'total_tokens': 2546}),\n",
       "  ToolMessage(content='{\"query\": \"recent ai news\", \"follow_up_questions\": null, \"answer\": null, \"images\": [], \"results\": [{\"url\": \"https://www.ainvest.com/news/amazon-ai-ambitions-commerce-giant-surpass-nvidia-microsoft-valuation-2030-2507/\", \"title\": \"Amazon\\'s AI Ambitions: Why the E-commerce Giant Could Surpass Nvidia and Microsoft in Valuation by 2030 - AInvest\", \"score\": 0.69795954, \"published_date\": \"Sun, 13 Jul 2025 01:00:44 GMT\", \"content\": \"Amazon\\'s AI business has achieved a multi-billion-dollar annual run rate with triple-digit growth rates, positioning Amazon advantageously in the generative AI transformation sweeping through enterprise technology . Recent AWS developments demonstrate the company\\'s commitment to AI leadership, including the introduction of Amazon Nova Canvas with AI-powered image generation capabilities and the availability of Anthropic Claude 4 models through Amazon Bedrock .\", \"raw_content\": null}, {\"url\": \"https://www.csoonline.com/article/4021749/new-grok-4-ai-breached-within-48-hours-using-whispered-jailbreaks.html\", \"title\": \"New Grok-4 AI breached within 48 hours using ‘whispered’ jailbreaks - csoonline.com\", \"score\": 0.69672287, \"published_date\": \"Mon, 14 Jul 2025 11:55:29 GMT\", \"content\": \"News Analysis ### Putting AI-assisted ‘vibe hacking’ to the test By Lucian Constantin Jul 14, 2025 7 mins Cyberattacks Penetration Testing VulnerabilitiesNews ### McDonald’s AI hiring tool’s password ‘123456’ exposed data of 64M applicants By Shweta Sharma Jul 11, 2025 5 mins Data Breach Passwords SecurityNews ### AMD discloses new CPU flaws that can enable data leaks via timing attacks By Gyana Swain Jul 10, 2025 5 mins Security Vulnerabilities\\\\n\\\\nOther Sections\\\\n-------------- [...] news ### Critical RCE flaw in Anthropic’s MCP inspector exposes developer machines to remote attacks Jul 2, 2025 4 mins\\\\n   news ### LLMs are guessing login URLs, and it’s a cybersecurity time bomb Jul 1, 2025 4 mins\\\\n   news ### Patch now: Citrix Bleed 2 vulnerability actively exploited in the wild Jun 30, 2025 3 mins\\\\n   news ### Some Brother printers have a remote code execution vulnerability, and they can’t fix it Jun 27, 2025 5 mins [...] news ### How a 12-year-old bug in Sudo is still haunting Linux users Jul 8, 2025 4 mins\\\\n   news ### NightEagle hackers exploit Microsoft Exchange flaw to spy on China’s strategic sectors Jul 7, 2025 4 mins\\\\n   news ### Verified, but vulnerable: Malicious extensions exploit IDE trust badges Jul 4, 2025 4 mins\\\\n   news ### Hardcoded root credentials in Cisco Unified CM trigger max-severity alert Jul 3, 2025 3 mins\", \"raw_content\": null}], \"response_time\": 1.25}', name='tavily_search', id='13a08da7-93e2-47fd-9197-7864d5fb5a8d', tool_call_id='z9nyxtvae')]}"
      ]
     },
     "execution_count": 26,
     "metadata": {},
     "output_type": "execute_result"
    }
   ],
   "source": [
    "# response=graph.invoke({\"messages\":\"What is 5 multiply by 2\"})\n",
    "response=graph.invoke({\"messages\":\"Give me the recent ai news and then answerWhat is 5 multiply by 2\"})\n",
    "# response "
   ]
  },
  {
   "cell_type": "code",
   "execution_count": 27,
   "id": "9437703f",
   "metadata": {},
   "outputs": [
    {
     "data": {
      "text/plain": [
       "'{\"query\": \"recent ai news\", \"follow_up_questions\": null, \"answer\": null, \"images\": [], \"results\": [{\"url\": \"https://www.ainvest.com/news/amazon-ai-ambitions-commerce-giant-surpass-nvidia-microsoft-valuation-2030-2507/\", \"title\": \"Amazon\\'s AI Ambitions: Why the E-commerce Giant Could Surpass Nvidia and Microsoft in Valuation by 2030 - AInvest\", \"score\": 0.69795954, \"published_date\": \"Sun, 13 Jul 2025 01:00:44 GMT\", \"content\": \"Amazon\\'s AI business has achieved a multi-billion-dollar annual run rate with triple-digit growth rates, positioning Amazon advantageously in the generative AI transformation sweeping through enterprise technology . Recent AWS developments demonstrate the company\\'s commitment to AI leadership, including the introduction of Amazon Nova Canvas with AI-powered image generation capabilities and the availability of Anthropic Claude 4 models through Amazon Bedrock .\", \"raw_content\": null}, {\"url\": \"https://www.csoonline.com/article/4021749/new-grok-4-ai-breached-within-48-hours-using-whispered-jailbreaks.html\", \"title\": \"New Grok-4 AI breached within 48 hours using ‘whispered’ jailbreaks - csoonline.com\", \"score\": 0.69672287, \"published_date\": \"Mon, 14 Jul 2025 11:55:29 GMT\", \"content\": \"News Analysis ### Putting AI-assisted ‘vibe hacking’ to the test By Lucian Constantin Jul 14, 2025 7 mins Cyberattacks Penetration Testing VulnerabilitiesNews ### McDonald’s AI hiring tool’s password ‘123456’ exposed data of 64M applicants By Shweta Sharma Jul 11, 2025 5 mins Data Breach Passwords SecurityNews ### AMD discloses new CPU flaws that can enable data leaks via timing attacks By Gyana Swain Jul 10, 2025 5 mins Security Vulnerabilities\\\\n\\\\nOther Sections\\\\n-------------- [...] news ### Critical RCE flaw in Anthropic’s MCP inspector exposes developer machines to remote attacks Jul 2, 2025 4 mins\\\\n   news ### LLMs are guessing login URLs, and it’s a cybersecurity time bomb Jul 1, 2025 4 mins\\\\n   news ### Patch now: Citrix Bleed 2 vulnerability actively exploited in the wild Jun 30, 2025 3 mins\\\\n   news ### Some Brother printers have a remote code execution vulnerability, and they can’t fix it Jun 27, 2025 5 mins [...] news ### How a 12-year-old bug in Sudo is still haunting Linux users Jul 8, 2025 4 mins\\\\n   news ### NightEagle hackers exploit Microsoft Exchange flaw to spy on China’s strategic sectors Jul 7, 2025 4 mins\\\\n   news ### Verified, but vulnerable: Malicious extensions exploit IDE trust badges Jul 4, 2025 4 mins\\\\n   news ### Hardcoded root credentials in Cisco Unified CM trigger max-severity alert Jul 3, 2025 3 mins\", \"raw_content\": null}], \"response_time\": 1.25}'"
      ]
     },
     "execution_count": 27,
     "metadata": {},
     "output_type": "execute_result"
    }
   ],
   "source": [
    "response['messages'][-1].content"
   ]
  },
  {
   "cell_type": "code",
   "execution_count": 28,
   "id": "0a16fa0f",
   "metadata": {},
   "outputs": [
    {
     "name": "stdout",
     "output_type": "stream",
     "text": [
      "================================\u001b[1m Human Message \u001b[0m=================================\n",
      "\n",
      "Give me the recent ai news and then answerWhat is 5 multiply by 2\n",
      "==================================\u001b[1m Ai Message \u001b[0m==================================\n",
      "Tool Calls:\n",
      "  tavily_search (z9nyxtvae)\n",
      " Call ID: z9nyxtvae\n",
      "  Args:\n",
      "    query: recent ai news\n",
      "    search_depth: advanced\n",
      "    topic: news\n",
      "=================================\u001b[1m Tool Message \u001b[0m=================================\n",
      "Name: tavily_search\n",
      "\n",
      "{\"query\": \"recent ai news\", \"follow_up_questions\": null, \"answer\": null, \"images\": [], \"results\": [{\"url\": \"https://www.ainvest.com/news/amazon-ai-ambitions-commerce-giant-surpass-nvidia-microsoft-valuation-2030-2507/\", \"title\": \"Amazon's AI Ambitions: Why the E-commerce Giant Could Surpass Nvidia and Microsoft in Valuation by 2030 - AInvest\", \"score\": 0.69795954, \"published_date\": \"Sun, 13 Jul 2025 01:00:44 GMT\", \"content\": \"Amazon's AI business has achieved a multi-billion-dollar annual run rate with triple-digit growth rates, positioning Amazon advantageously in the generative AI transformation sweeping through enterprise technology . Recent AWS developments demonstrate the company's commitment to AI leadership, including the introduction of Amazon Nova Canvas with AI-powered image generation capabilities and the availability of Anthropic Claude 4 models through Amazon Bedrock .\", \"raw_content\": null}, {\"url\": \"https://www.csoonline.com/article/4021749/new-grok-4-ai-breached-within-48-hours-using-whispered-jailbreaks.html\", \"title\": \"New Grok-4 AI breached within 48 hours using ‘whispered’ jailbreaks - csoonline.com\", \"score\": 0.69672287, \"published_date\": \"Mon, 14 Jul 2025 11:55:29 GMT\", \"content\": \"News Analysis ### Putting AI-assisted ‘vibe hacking’ to the test By Lucian Constantin Jul 14, 2025 7 mins Cyberattacks Penetration Testing VulnerabilitiesNews ### McDonald’s AI hiring tool’s password ‘123456’ exposed data of 64M applicants By Shweta Sharma Jul 11, 2025 5 mins Data Breach Passwords SecurityNews ### AMD discloses new CPU flaws that can enable data leaks via timing attacks By Gyana Swain Jul 10, 2025 5 mins Security Vulnerabilities\\n\\nOther Sections\\n-------------- [...] news ### Critical RCE flaw in Anthropic’s MCP inspector exposes developer machines to remote attacks Jul 2, 2025 4 mins\\n   news ### LLMs are guessing login URLs, and it’s a cybersecurity time bomb Jul 1, 2025 4 mins\\n   news ### Patch now: Citrix Bleed 2 vulnerability actively exploited in the wild Jun 30, 2025 3 mins\\n   news ### Some Brother printers have a remote code execution vulnerability, and they can’t fix it Jun 27, 2025 5 mins [...] news ### How a 12-year-old bug in Sudo is still haunting Linux users Jul 8, 2025 4 mins\\n   news ### NightEagle hackers exploit Microsoft Exchange flaw to spy on China’s strategic sectors Jul 7, 2025 4 mins\\n   news ### Verified, but vulnerable: Malicious extensions exploit IDE trust badges Jul 4, 2025 4 mins\\n   news ### Hardcoded root credentials in Cisco Unified CM trigger max-severity alert Jul 3, 2025 3 mins\", \"raw_content\": null}], \"response_time\": 1.25}\n"
     ]
    }
   ],
   "source": [
    "for m in response['messages']:\n",
    "    m.pretty_print()"
   ]
  },
  {
   "cell_type": "markdown",
   "id": "b5104536",
   "metadata": {},
   "source": [
    "# ReACT Agent Architecture"
   ]
  },
  {
   "cell_type": "code",
   "execution_count": 29,
   "id": "45137549",
   "metadata": {},
   "outputs": [
    {
     "data": {
      "image/png": "[encoded data removed]",
      "text/plain": [
       "<IPython.core.display.Image object>"
      ]
     },
     "metadata": {},
     "output_type": "display_data"
    }
   ],
   "source": [
    "from langgraph.graph import StateGraph,START,END\n",
    "from langgraph.prebuilt import ToolNode\n",
    "from langgraph.prebuilt import tools_condition\n",
    "\n",
    "# Node Defination\n",
    "def tool_calling_llm(state:State):\n",
    "    return {\"messages\":[llm_with_tool.invoke(state[\"messages\"])]}\n",
    "\n",
    "# Graph\n",
    "builder = StateGraph(State)\n",
    "builder.add_node(\"tool_calling_llm\",tool_calling_llm)\n",
    "builder.add_node(\"tools\",ToolNode(tools))\n",
    "\n",
    "#Add edges\n",
    "\n",
    "builder.add_edge(START,\"tool_calling_llm\")\n",
    "builder.add_conditional_edges(\n",
    "    \"tool_calling_llm\",\n",
    "    tools_condition\n",
    "     \n",
    ")\n",
    "\n",
    "builder.add_edge(\"tools\",\"tool_calling_llm\") # Instead going to tools--> End its going to tool_calling_llm\n",
    "\n",
    "#compile the graph\n",
    "\n",
    "\n",
    "graph = builder.compile()\n",
    "\n",
    "from IPython.display import Image,display\n",
    "\n",
    "display(Image(graph.get_graph().draw_mermaid_png()))\n"
   ]
  },
  {
   "cell_type": "code",
   "execution_count": 30,
   "id": "c57ee805",
   "metadata": {},
   "outputs": [],
   "source": [
    "# response=graph.invoke({\"messages\":\"What is 5 multiply by 2\"})\n",
    "response=graph.invoke({\"messages\":\"Give me the recent ai news and then answerWhat is 5 multiply by 2\"})\n",
    "# response "
   ]
  },
  {
   "cell_type": "code",
   "execution_count": 31,
   "id": "1663781d",
   "metadata": {},
   "outputs": [
    {
     "name": "stdout",
     "output_type": "stream",
     "text": [
      "================================\u001b[1m Human Message \u001b[0m=================================\n",
      "\n",
      "Give me the recent ai news and then answerWhat is 5 multiply by 2\n",
      "==================================\u001b[1m Ai Message \u001b[0m==================================\n",
      "Tool Calls:\n",
      "  tavily_search (bhqczhf0k)\n",
      " Call ID: bhqczhf0k\n",
      "  Args:\n",
      "    query: recent ai news\n",
      "    search_depth: advanced\n",
      "    time_range: day\n",
      "=================================\u001b[1m Tool Message \u001b[0m=================================\n",
      "Name: tavily_search\n",
      "\n",
      "{\"query\": \"recent ai news\", \"follow_up_questions\": null, \"answer\": null, \"images\": [], \"results\": [{\"url\": \"https://medium.com/@anirudhsekar2008/the-ai-world-just-shifted-again-9-stories-you-need-to-know-july-2025-474a3ec7e86c\", \"title\": \"The AI World Just Shifted Again — 9 Stories You Need to Know (July ...\", \"content\": \"# 2. xAI Wins Controversial $200 Million Defense Contract\\n\\nElon Musk’s company xAI, makers of the Grok chatbot, has landed a $200 million defense contract to integrate Grok’s models into U.S. federal agencies under a project called “Grok for Government.” This comes amid backlash after Grok’s public version generated antisemitic content just weeks ago. Despite the controversy, the Department of Defense is moving forward, trusting in xAI’s promised safeguards.\\n\\nSource: [...] Sign up\\n\\nSign in\\n\\nSign up\\n\\nSign in\\n\\n# The AI World Just Shifted Again — 9 Stories You Need to Know (July 2025)\\n\\nAnirudh Sekar\\n\\n--\\n\\nListen\\n\\nShare\\n\\nArtificial intelligence isn’t just moving fast — it’s reshaping industries, governments, and daily life at breakneck speed. From billion-dollar federal investments to worker protections against AI-generated clones, the past week has been packed with critical developments. Let’s break down the biggest stories shaping the future of AI as of July 2025. [...] # 3. Nvidia Hits $4 Trillion as CEO Heads to China\\n\\nNvidia’s market valuation has surpassed $4 trillion, driven by skyrocketing demand for AI chips globally. CEO Jensen Huang is scheduled to address the press in Beijing on July 16, amid ongoing U.S. chip export restrictions and China’s hunger for high-end GPUs. Expect important signals about Nvidia’s China strategy — and global AI leadership.\\n\\nSource: \\n\\n# Regulation, Ethics & Industry Shifts\\n\\n# 4. EU Introduces Voluntary AI Code of Practice\", \"score\": 0.78194773, \"raw_content\": null}, {\"url\": \"https://www.devopsdigest.com/ai-takes-center-stage-in-2025-software-development\", \"title\": \"AI Takes Center Stage in 2025 Software Development\", \"content\": \"Legit Security announced a major new feature that furthers its commitment to better serve the AI-first developer community: Legit MCP (Model Context Protocol) Server.\\n\\nPentera introduced a capability to uncover and validate risk exposure from data in Git repositories.\\n\\nDomino Data Lab announced the launch of its Vibe Modeling offering.\\n\\nMetTel announced a strategic partnership with Check Point Software Technologies to deliver an advanced mobile threat defense solution for enterprise customers. [...] Docker announced major new capabilities that make it easier for developers to build, run, and scale intelligent, agentic applications.\\n\\nAzul announced a strategic partnership to deliver near-zero Common Vulnerabilities and Exposures (CVEs) third-party container images backed by Azul’s Java support.\\n\\nMirantis is extending support for Swarm for another five years. [...] Perforce Software launched a breakthrough in agentic AI testing with the ability to turn plain language inputs into resilient, execution-ready test actions.\\n\\nOutSystems announced the Early Access Program for OutSystems Agent Workbench.\\n\\nHarness Infrastructure as Code Management (IaCM) added major new features focused on reusability and scalability: Module Registry and Workspace Templates.\", \"score\": 0.68064564, \"raw_content\": null}], \"response_time\": 2.25}\n",
      "==================================\u001b[1m Ai Message \u001b[0m==================================\n",
      "Tool Calls:\n",
      "  multiply (5p9nxm1c7)\n",
      " Call ID: 5p9nxm1c7\n",
      "  Args:\n",
      "    a: 5\n",
      "    b: 2\n",
      "=================================\u001b[1m Tool Message \u001b[0m=================================\n",
      "Name: multiply\n",
      "\n",
      "10\n",
      "==================================\u001b[1m Ai Message \u001b[0m==================================\n",
      "\n",
      "The answer to \"What is 5 multiply by 2?\" is 10.\n"
     ]
    }
   ],
   "source": [
    "for m in response['messages']:\n",
    "    m.pretty_print()"
   ]
  },
  {
   "cell_type": "markdown",
   "id": "f0b4ac3f",
   "metadata": {},
   "source": [
    "# Adding Memory In Agentic Graph"
   ]
  },
  {
   "cell_type": "code",
   "execution_count": null,
   "id": "188bb7fc",
   "metadata": {},
   "outputs": [
    {
     "data": {
      "image/png": "[encoded data removed]",
      "text/plain": [
       "<IPython.core.display.Image object>"
      ]
     },
     "metadata": {},
     "output_type": "display_data"
    }
   ],
   "source": [
    "from langgraph.graph import StateGraph,START,END\n",
    "from langgraph.prebuilt import ToolNode\n",
    "from langgraph.prebuilt import tools_condition\n",
    "from langgraph.checkpoint.memory import MemorySaver\n",
    "\n",
    "memory = MemorySaver()\n",
    "\n",
    "# Node Defination\n",
    "def tool_calling_llm(state:State):\n",
    "    return {\"messages\":[llm_with_tool.invoke(state[\"messages\"])]}\n",
    "\n",
    "# Graph\n",
    "builder = StateGraph(State)\n",
    "builder.add_node(\"tool_calling_llm\",tool_calling_llm)\n",
    "builder.add_node(\"tools\",ToolNode(tools))\n",
    "\n",
    "#Add edges\n",
    "\n",
    "builder.add_edge(START,\"tool_calling_llm\")\n",
    "builder.add_conditional_edges(\n",
    "    \"tool_calling_llm\",\n",
    "    tools_condition\n",
    "     \n",
    ")\n",
    "\n",
    "builder.add_edge(\"tools\",\"tool_calling_llm\") # Instead going to tools--> End its going to tool_calling_llm\n",
    "\n",
    "#compile the graph\n",
    "\n",
    "\n",
    "graph = builder.compile(checkpointer=memory)\n",
    "\n",
    "from IPython.display import Image,display\n",
    "\n",
    "display(Image(graph.get_graph().draw_mermaid_png()))\n"
   ]
  },
  {
   "cell_type": "code",
   "execution_count": 51,
   "id": "79ed272f",
   "metadata": {},
   "outputs": [
    {
     "data": {
      "text/plain": [
       "{'messages': [HumanMessage(content='Hey My name is Jishnu', additional_kwargs={}, response_metadata={}, id='0914ada2-9365-4776-9dfe-5ed43b5463c3'),\n",
       "  AIMessage(content='Nice to meet you, Jishnu!', additional_kwargs={}, response_metadata={'token_usage': {'completion_tokens': 10, 'prompt_tokens': 2263, 'total_tokens': 2273, 'completion_time': 0.013438015, 'prompt_time': 0.31355655, 'queue_time': 0.06004209100000002, 'total_time': 0.326994565}, 'model_name': 'llama3-8b-8192', 'system_fingerprint': 'fp_24ec19897b', 'service_tier': 'on_demand', 'finish_reason': 'stop', 'logprobs': None}, id='run--11bdc51c-33f2-4117-a1f7-3cf7630b8dea-0', usage_metadata={'input_tokens': 2263, 'output_tokens': 10, 'total_tokens': 2273})]}"
      ]
     },
     "execution_count": 51,
     "metadata": {},
     "output_type": "execute_result"
    }
   ],
   "source": [
    "config= {\"configurable\":{\"thread_id\":\"2\"}}\n",
    "\n",
    "response = graph.invoke({\"messages\":\"Hey My name is Jishnu\"},config=config)\n",
    "\n",
    "response"
   ]
  },
  {
   "cell_type": "code",
   "execution_count": 47,
   "id": "a86aae77",
   "metadata": {},
   "outputs": [
    {
     "data": {
      "text/plain": [
       "'Nice to meet you, Jishnu! What brings you here today?'"
      ]
     },
     "execution_count": 47,
     "metadata": {},
     "output_type": "execute_result"
    }
   ],
   "source": [
    "response[\"messages\"][-1].content"
   ]
  },
  {
   "cell_type": "code",
   "execution_count": 52,
   "id": "73b1bd93",
   "metadata": {},
   "outputs": [
    {
     "name": "stdout",
     "output_type": "stream",
     "text": [
      "I'm happy to help! However, I'm a new AI model, and we just started our conversation, so I don't have any information about your name yet. But please feel free to introduce yourself, and I'll do my best to remember it for our conversation!\n"
     ]
    }
   ],
   "source": [
    "response = graph.invoke({\"messages\":\"Hey do you remember my name?\"},config=config)\n",
    "\n",
    "print(response[\"messages\"][-1].content)"
   ]
  },
  {
   "cell_type": "markdown",
   "id": "bc7f9531",
   "metadata": {},
   "source": [
    "# Streaming"
   ]
  },
  {
   "cell_type": "code",
   "execution_count": null,
   "id": "e53a17eb",
   "metadata": {},
   "outputs": [],
   "source": []
  },
  {
   "cell_type": "markdown",
   "id": "a93bd9a8",
   "metadata": {},
   "source": [
    "# Human Feedback"
   ]
  },
  {
   "cell_type": "code",
   "execution_count": null,
   "id": "9383ef07",
   "metadata": {},
   "outputs": [],
   "source": []
  }
 ],
 "metadata": {
  "kernelspec": {
   "display_name": "AgenticAi",
   "language": "python",
   "name": "python3"
  },
  "language_info": {
   "codemirror_mode": {
    "name": "ipython",
    "version": 3
   },
   "file_extension": ".py",
   "mimetype": "text/x-python",
   "name": "python",
   "nbconvert_exporter": "python",
   "pygments_lexer": "ipython3",
   "version": "3.13.5"
  }
 },
 "nbformat": 4,
 "nbformat_minor": 5
}
